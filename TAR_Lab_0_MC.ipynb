{
  "nbformat": 4,
  "nbformat_minor": 0,
  "metadata": {
    "colab": {
      "provenance": []
    },
    "kernelspec": {
      "name": "python3",
      "display_name": "Python 3"
    },
    "language_info": {
      "name": "python"
    }
  },
  "cells": [
    {
      "cell_type": "markdown",
      "metadata": {
        "id": "0e274ab9"
      },
      "source": [
        "# TAR: Taller de Aprendizaje por Refuerzo 2025\n",
        "# Laboratorio 0: Conceptos preeliminares  \n",
        "En este laboratorio vamos a trabajar con un análisis básico de una marcha aleatoria (*random walk*) y de una cadena de markov. Nos servirá para repasar algunos conceptos básicos de probabildidad, matrices de trancisión, esperanza, y también para familiarizarnos -o recordar- cómo realizar scripts en python.\n"
      ]
    },
    {
      "cell_type": "markdown",
      "metadata": {
        "id": "e3fa7c7a"
      },
      "source": [
        "\n",
        "# 1. Random Walk y Probabilidades\n",
        "\n",
        "En este ejercicio trabajaremos conceptos básicos de probabilidad y programación en Python usando **random walks** (caminatas aleatorias). Usaremos variables de tipo Bernoulli para decidir el movimiento del caminante.\n",
        "\n"
      ]
    },
    {
      "cell_type": "markdown",
      "source": [
        "**1.1 Random Walk en 1D**\n",
        "\n",
        "Imaginemos un caminante que avanza por una grilla de una dimensión, y comienza en la posición 0. En cada paso lanza una moneda. Si sale cara, avanza una casilla; si sale cruz, retrocede una.\n",
        "\n",
        "Simula una caminata de 100 pasos y grafica la trayectoria.\n",
        "\n",
        "Repite para los casos donde en lugar de tirar una moneda (equiprobabilidad de avanzar o retroceder) tiene a) una probabilidad mayor a 0.5 de avanzar y b) una probabilidad menor a 0.5 de avanzar.\n",
        "\n",
        "¿Qué observas?\n"
      ],
      "metadata": {
        "id": "f4OlAfFMWXDu"
      }
    },
    {
      "cell_type": "code",
      "source": [
        "\n"
      ],
      "metadata": {
        "id": "8nzlKHsUV70C"
      },
      "execution_count": null,
      "outputs": []
    },
    {
      "cell_type": "markdown",
      "source": [
        "**1.2 Valor esperado de la posición final**\n",
        "\n",
        "Considerea ahora el caso de equiprobabilidad de avanzar o retroceder. Simula 1000 caminatas independientes de 1000 pasos cada una. Grafica utilizando un histograma, la distribución empírica de posiciones finales. ¿Cuál dirías que es el valor esperado de la posición final?\n",
        "\n",
        "Repite para distintas cantidades de pasos. ¿Cómo cambia la varianza con la cantidad de pasos?"
      ],
      "metadata": {
        "id": "ha5EOdFlXuS2"
      }
    },
    {
      "cell_type": "code",
      "source": [
        "\n"
      ],
      "metadata": {
        "id": "pv6aFYfkXwyX"
      },
      "execution_count": null,
      "outputs": []
    },
    {
      "cell_type": "markdown",
      "source": [
        "**1.3 Probabilidad condicional en caminatas aleatorias**\n",
        "\n",
        "Vamos a calcular empíricamente la probabilidad condicional de un estado final dado un estado intermedio. Vamos también a recordar la definición de probabilidad condicional, y obtener el valor a partir de la misma.\n",
        "\n",
        "Realizar 10000 simulaciones de caminatas aleatorias equiprobables de 10 pasos.\n",
        "\n",
        "1. Registrar para cada caminata la posición en el paso 4 y la posición final.\n",
        "2. Calcular empíricamente la probabilidad condicional de que la posición final sea positiva **dado que** la posición en el paso 4 fue 0.\n",
        "3. Calcular la misma probabilidad pero utilizando directamente la definición de probabilidad condicional.\n",
        "3. Calcular la probabilidad de terminar en una posición positiva (sin condicionar) y comparar con la probabilidad condicional obtenida previamente."
      ],
      "metadata": {
        "id": "glkF1Agnav2U"
      }
    },
    {
      "cell_type": "markdown",
      "source": [
        "**1.4 Random Walk en 2D**\n",
        "\n",
        "En esta última parte del ejercicio 1 nos entrenaremos un poco más en scripts python. Supongamos ahora que el caminante puede moverse en las 4 direcciones (norte, sur, este, oeste) con igual probabilidad.\n",
        "\n",
        "Simula una caminata de 200 pasos y grafica el resultado."
      ],
      "metadata": {
        "id": "KY_olbsJQ1aX"
      }
    },
    {
      "cell_type": "code",
      "source": [],
      "metadata": {
        "id": "Cx3uOGcQQ1F4"
      },
      "execution_count": null,
      "outputs": []
    },
    {
      "cell_type": "markdown",
      "source": [
        "# 2. Ejemplo \"Small World\"\n",
        "\n",
        "Vamos a trabajar con el ejemplo de \"Small world\" visto en clase. Vamos a considerar una cadena de markov de tiempo discreto cuyos **estados** y **transiciones** posibles entre los estados están representados en la imágen.\n",
        "\n",
        "![Captura de pantalla 2025-04-17 153632.png](data:image/png;base64,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)\n",
        "\n",
        "Las **probabilidades** son como sigue: a un instante dado, la probabilidad de quedarse en el mismo estado es de 0.5 y con prpbabilidad uniforme se mueve a un estado vecino.\n",
        "\n",
        "1.   Primero vamos a ingresar manualmente la matriz.\n",
        "2.   Luego se simulará una trayectoria.\n",
        "3.   Finalmente se calculará y visualizará la distribución estacionaria.\n"
      ],
      "metadata": {
        "id": "XQlSVvZTAxQu"
      }
    },
    {
      "cell_type": "markdown",
      "source": [
        "**2.1 Diagrama de estados** Fuera del notebook dibuja a mano el diargrama de estados de la cadena. Investiga por qué se llama Small World el tipo de grafo resultante. Piensa la relación que hay entre este ejercicio y el ejercicio 1."
      ],
      "metadata": {
        "id": "Uh5Wx_VqAntT"
      }
    },
    {
      "cell_type": "markdown",
      "source": [
        "Respuesta:"
      ],
      "metadata": {
        "id": "1AcclNtfDc8y"
      }
    },
    {
      "cell_type": "markdown",
      "source": [
        "**2.2 Ingresa la matriz de transición como un array de NumPy**\n"
      ],
      "metadata": {
        "id": "eoxFpv8iDQCQ"
      }
    },
    {
      "cell_type": "code",
      "execution_count": null,
      "metadata": {
        "colab": {
          "base_uri": "https://localhost:8080/"
        },
        "id": "cc0ce11e",
        "outputId": "779499c7-305f-45c5-8f23-c41e3ae7eb59"
      },
      "outputs": [
        {
          "output_type": "stream",
          "name": "stdout",
          "text": [
            "Matriz cargada correctamente.\n"
          ]
        }
      ],
      "source": []
    },
    {
      "cell_type": "markdown",
      "source": [
        "**2.3 Simula una trayectoria de la cadena de Markov** Utiliza las entradas correspondientes de la matriz P para sortear en cada paso el próximo estado. Guarda cada resultado en un vector trayectoria."
      ],
      "metadata": {
        "id": "MHfFQ2FfFT-Y"
      }
    },
    {
      "cell_type": "code",
      "execution_count": null,
      "metadata": {
        "id": "3b2de4bb"
      },
      "outputs": [],
      "source": [
        "\n",
        "import random\n",
        "\n",
        "# TODO: completá la función para simular una cadena de Markov, donde P es la matriz de transición indicada anteriormente\n",
        "def simular_cadena(P, pasos=20, estado_inicial=None):\n",
        "   #TODO completar......\n",
        "\n",
        "# Simular un recorrido de 100 pasos\n",
        "trayectoria = simular_cadena(P, pasos=100)\n",
        "print(\"Recorrido simulado:\", trayectoria)\n"
      ]
    },
    {
      "cell_type": "markdown",
      "source": [
        "**2.4 Grafica la trayectoria obtenida**"
      ],
      "metadata": {
        "id": "qCRMLNlvI5wD"
      }
    },
    {
      "cell_type": "code",
      "source": [],
      "metadata": {
        "id": "weyIgX6BIFFs"
      },
      "execution_count": null,
      "outputs": []
    },
    {
      "cell_type": "markdown",
      "source": [
        "**2.5 Calcula empíricamente el porcentaje de tiempo que la cadena estuvo en cada uno de los estados, según la trayectoria obtenida.** ¿cómo puede interpretarse los valores obtenidos? ¿cómo cambian a medida que aumentamos la cantidad de pasos simulada en 2.3 para la trayectoria? ¿y con respecto al estado inicial?"
      ],
      "metadata": {
        "id": "orqpiyx5AQyl"
      }
    },
    {
      "cell_type": "code",
      "source": [],
      "metadata": {
        "id": "r9SV7Mz5Ahsz"
      },
      "execution_count": null,
      "outputs": []
    },
    {
      "cell_type": "markdown",
      "source": [
        "**2.6 Obten y grafica la evolución en el tiempo de una distribución inicial dada.** Utiliza la propiedad vista en clase respecto a matrices estocásticas. Analiza el resultado y observa si la distribución convergió o no. Prueba varias veces, con distintas distribuciones iniciales. ¿Qué observas? ¿Por qué?"
      ],
      "metadata": {
        "id": "LAxAk1tVJHIO"
      }
    },
    {
      "cell_type": "code",
      "execution_count": null,
      "metadata": {
        "id": "3fc329b6"
      },
      "outputs": [],
      "source": [
        "\n",
        "\n",
        "# TODO: simulá la evolución con el tiempo de una distribución inicial\n",
        "\n",
        "# Graficar\n"
      ]
    },
    {
      "cell_type": "markdown",
      "source": [
        "**2.7 Obten la distribución estacionaria a partir de un cálculo algebraico, y no una simulación (Estamos asumiendo que la misma existe.).**  Utiliza las propiedades vistas en clase. Compara el resultado con lo graficado anteriormente, ¿qué concluyes? Compara también el resultado con el obtenido en 2.3."
      ],
      "metadata": {
        "id": "SWJfnOX5FybX"
      }
    },
    {
      "cell_type": "code",
      "execution_count": null,
      "metadata": {
        "id": "937cc9c4"
      },
      "outputs": [],
      "source": []
    }
  ]
}