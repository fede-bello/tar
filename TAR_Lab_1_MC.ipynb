{
  "cells": [
    {
      "cell_type": "markdown",
      "metadata": {
        "id": "uxpjhFwiIL84"
      },
      "source": [
        "<CENTER>\n",
        "</br>\n",
        "<p><font size=\"5\"> TAR: Taller de Aprendizaje por Refuerzo 2025</span></p>\n",
        "<p><font size=\"5\">  LAB 1: MDP</font></p>\n",
        "</p></br>\n",
        "</p>\n",
        "</CENTER>\n",
        "\n",
        "\n",
        "----------------------------"
      ]
    },
    {
      "cell_type": "markdown",
      "source": [
        "In this lab we are going to go through the fundamental concepts of MDP, state and solve a problem for optimal machine replacement, relying on the algorithms seen in class, and no particular MDP python library other than regular ones such as numpy, random, matplotlib."
      ],
      "metadata": {
        "id": "OIc5eCXlJajK"
      }
    },
    {
      "cell_type": "markdown",
      "metadata": {
        "id": "Hs_Q9FjIIL85"
      },
      "source": [
        "## Machine replacement\n",
        "\n",
        "A machine has possible states in $\\{1,\\ldots,S\\}$ that represent how good it performs (the higher the better), state 1 can be consider as broken, state S as new. At each instant $k=0,\\ldots$ either the machine is replaced (action $a=1$) or it is left unchanged (action $a=2$). We assume that\n",
        "\n",
        "\\begin{equation}\n",
        "\\begin{array}{ll}\n",
        "P(s_{k+1}=S|a_k=1) &=1\\\\\n",
        "P(s_{k+1}=s|s_k=s\\_ ,a_k=2) &=(1-\\theta)\\delta_{s\\_ ,s}+\\theta \\delta_{\\max(1,s\\_-1 ),s}.\n",
        "\\end{array}\n",
        "\\end{equation}\n",
        "\n",
        "where $\\delta_{a,b}=1$ if $a=b$ and $0$ otherwise.\n",
        "\n",
        "**1)** Explain the meaning of these probabilities.\n",
        "\n",
        "**2)** Give the expression of transition matrices $P(1)$ and $P(2)$ corresponding to actions $a_k=1$ and $a_k=2$.\n",
        "\n",
        "At times $k=0,\\ldots$, the cost of machine replacement is $c_k(s,a=1)=C$, while if the machine is not replaced, there is still a cost given by $c_k(s,a=2)=(S-s)/(S-1)$, due to the loss of quantity/quality of the production of the machine when its state degrades.\n",
        "\n",
        "**3)** Implement the trajectory of the MDP for a given policy $\\pi$ in a function *trajectory(pi=$\\pi$)* that outputs the trajectory of the state $s$, the trajectory of the action $a$ and resulting cumulative cost $J$.\n",
        "\n",
        "**4)** Implement a plotting function  *plot_trajectory(pi=$\\pi$,policy='')* that runs the *trajectory* function for policy $\\pi$ and plots the trajectories of $s$ and $a$ and gives the value of cumulative cost $J$. The policy string represents the legend in the plot.\n",
        "\n",
        "**5)** Express Bellman's value iteration algorithm. Implement the algorithm for $S=100$, $\\theta=.5$, $R=100$ and discount factor $\\gamma$ as a parameter.  \n",
        "\n",
        "**6)** For the optimal policy, plot a few trajectories of the MDP. Test the influence of parameters $\\theta$, $R$, $\\gamma$... Comments?\n",
        "\n",
        "\n",
        "------------"
      ]
    }
  ],
  "metadata": {
    "kernelspec": {
      "display_name": "Python 3",
      "name": "python3"
    },
    "language_info": {
      "name": "python"
    },
    "colab": {
      "provenance": []
    }
  },
  "nbformat": 4,
  "nbformat_minor": 0
}